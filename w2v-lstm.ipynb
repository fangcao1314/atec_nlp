{
 "cells": [
  {
   "cell_type": "code",
   "execution_count": 1,
   "metadata": {},
   "outputs": [
    {
     "name": "stderr",
     "output_type": "stream",
     "text": [
      "Using TensorFlow backend.\n"
     ]
    }
   ],
   "source": [
    "import numpy as np\n",
    "import pandas as pd\n",
    "import jieba as jb\n",
    "from gensim.models import Word2Vec\n",
    "from keras.preprocessing.sequence import pad_sequences\n",
    "from keras.layers import *\n",
    "from keras.models import Model\n",
    "from keras.optimizers import RMSprop\n",
    "from keras import regularizers\n",
    "import keras.backend as K"
   ]
  },
  {
   "cell_type": "code",
   "execution_count": 2,
   "metadata": {},
   "outputs": [
    {
     "name": "stderr",
     "output_type": "stream",
     "text": [
      "Building prefix dict from the default dictionary ...\n",
      "Loading model from cache /tmp/jieba.cache\n",
      "Loading model cost 0.286 seconds.\n",
      "Prefix dict has been built succesfully.\n"
     ]
    }
   ],
   "source": [
    "jb.load_userdict('./data/dict.txt')"
   ]
  },
  {
   "cell_type": "code",
   "execution_count": 3,
   "metadata": {},
   "outputs": [],
   "source": [
    "# define constant\n",
    "MAX_LEN = 60\n",
    "EMD_DIM = 200\n",
    "\n",
    "with open('./data/stopwords_simple.txt') as f:\n",
    "    STOP_WORDS = f.read().decode('utf-8').split()"
   ]
  },
  {
   "cell_type": "code",
   "execution_count": 4,
   "metadata": {},
   "outputs": [],
   "source": [
    "# read data\n",
    "data1 = pd.read_csv('./data/atec_nlp_sim_train.csv', sep='\\t', index_col=0, names=['sen1', 'sen2', 'label'])\n",
    "data2 = pd.read_csv('./data/atec_nlp_sim_train_add.csv', sep='\\t', index_col=0, names=['sen1', 'sen2', 'label'])\n",
    "data = pd.concat([data1, data2])\n",
    "\n",
    "sens1, sens2, labels = data['sen1'].as_matrix(), data['sen2'].as_matrix(), data['label'].as_matrix()"
   ]
  },
  {
   "cell_type": "code",
   "execution_count": 5,
   "metadata": {},
   "outputs": [],
   "source": [
    "def train_test_split(X1, X2, y, test_size=0.2, shuffle=True):\n",
    "    leng = len(y)\n",
    "    inds = np.arange(leng)\n",
    "    if shuffle:\n",
    "        np.random.shuffle(inds)\n",
    "    hook = int(leng * test_size)\n",
    "    X1_train, X2_train, y_train = X1[inds[:-hook]], X2[inds[:-hook]], y[inds[:-hook]]\n",
    "    X1_test, X2_test, y_test = X1[inds[-hook:]], X2[inds[-hook:]], y[inds[-hook:]]\n",
    "    return X1_train, X2_train, y_train, X1_test, X2_test, y_test"
   ]
  },
  {
   "cell_type": "code",
   "execution_count": 6,
   "metadata": {},
   "outputs": [],
   "source": [
    "def tokenize(texts):\n",
    "    sens = []\n",
    "    for sen in texts:\n",
    "        words = jb.lcut(sen)\n",
    "        words = [w for w in words if w.strip() and w not in STOP_WORDS]\n",
    "        sens.append(words)\n",
    "    return sens"
   ]
  },
  {
   "cell_type": "code",
   "execution_count": 7,
   "metadata": {},
   "outputs": [],
   "source": [
    "def to_int_seqs(seqs, vocab):\n",
    "    rs = []\n",
    "    for s in seqs:\n",
    "        rs.append([vocab[w] if w in vocab else 0 for w in s])\n",
    "    return rs"
   ]
  },
  {
   "cell_type": "code",
   "execution_count": 8,
   "metadata": {},
   "outputs": [],
   "source": [
    "def gen_emb_matrix(word_vecs, vocab):\n",
    "    emb_matrix = np.zeros((len(vocab), EMD_DIM))\n",
    "    for w,i in vocab.items():\n",
    "        if i != 0:\n",
    "            emb_matrix[i] = word_vecs[w]\n",
    "    return emb_matrix"
   ]
  },
  {
   "cell_type": "code",
   "execution_count": 9,
   "metadata": {},
   "outputs": [],
   "source": [
    "def fscore(y_true, y_pred):\n",
    "    y_pred = K.cast(K.greater(y_pred, 0.5), dtype='float32')\n",
    "    tp = K.sum(K.cast(K.equal(y_true+y_pred, 2.), dtype='float32'))\n",
    "    pred_p = K.sum(y_pred) + K.epsilon()\n",
    "    actual_p = K.sum(y_true) + K.epsilon()\n",
    "    precision = tp / pred_p\n",
    "    recall = tp / actual_p\n",
    "    return (2 * precision * recall) / (precision + recall + K.epsilon())"
   ]
  },
  {
   "cell_type": "code",
   "execution_count": 10,
   "metadata": {},
   "outputs": [],
   "source": [
    "def weighted_binary_crossentropy(y_true, y_pred):\n",
    "    p = K.clip(y_pred, K.epsilon(), 1. - K.epsilon())\n",
    "    loss = -(1.4 * y_true * K.log(p) + 0.6 * (1. - y_true) * K.log(1. - p))\n",
    "    return K.mean(loss)"
   ]
  },
  {
   "cell_type": "code",
   "execution_count": 11,
   "metadata": {},
   "outputs": [],
   "source": [
    "def my_model(vocab_size, emb_matrix, lr=0.001, loss='binary_crossentropy'):\n",
    "    \n",
    "    input1 = Input(shape=(MAX_LEN,))\n",
    "    input2 = Input(shape=(MAX_LEN,))\n",
    "    \n",
    "    embedding = Embedding(vocab_size,\n",
    "                          EMD_DIM,                          \n",
    "                          weights=[emb_matrix],\n",
    "                          input_length=MAX_LEN,\n",
    "                          trainable=False)    \n",
    "    \n",
    "    # conv1d = Conv1D(128, 3, padding='same')\n",
    "    # pooling1d = MaxPooling1D(pool_size=2, padding='same')\n",
    "    \n",
    "    lstm1 = Bidirectional(LSTM(128, return_sequences=True))\n",
    "    lstm2 = Bidirectional(LSTM(128, return_sequences=True))\n",
    "        \n",
    "    x1 = embedding(input1)\n",
    "    x2 = embedding(input2)\n",
    "        \n",
    "    x1 = lstm1(x1)\n",
    "    x2 = lstm1(x2)\n",
    "    \n",
    "    x1 = lstm2(x1)\n",
    "    x2 = lstm2(x2)\n",
    "    \n",
    "    x3 = Multiply()([x1, x2])    \n",
    "    \n",
    "    x4 = Subtract()([x1, x2])\n",
    "    x4 = Lambda(lambda x: K.abs(x))(x4)\n",
    "    \n",
    "    x = Concatenate(axis=-1)([x3, x4])\n",
    "    x = Flatten()(x)\n",
    "    x = Dropout(0.5)(x)\n",
    "    x = Dense(100, kernel_regularizer=regularizers.l2(1e-5))(x)\n",
    "    \n",
    "    pred = Dense(1, activation='sigmoid', kernel_regularizer=regularizers.l2(1e-5))(x)\n",
    "    \n",
    "    model = Model(inputs=[input1, input2], outputs=pred)\n",
    "    \n",
    "    model.compile(optimizer=RMSprop(lr=lr, decay=1e-6),\n",
    "                  loss=loss,\n",
    "                  metrics=['accuracy', fscore])\n",
    "    \n",
    "    return model"
   ]
  },
  {
   "cell_type": "code",
   "execution_count": 12,
   "metadata": {},
   "outputs": [],
   "source": [
    "#split data\n",
    "X1_train, X2_train, y_train, X1_test, X2_test, y_test = train_test_split(sens1, sens2, labels, test_size=0.1)"
   ]
  },
  {
   "cell_type": "code",
   "execution_count": 13,
   "metadata": {},
   "outputs": [],
   "source": [
    "X1_train, X2_train = tokenize(X1_train), tokenize(X2_train)\n",
    "X1_test, X2_test = tokenize(X1_test), tokenize(X2_test)\n",
    "\n",
    "sentences = np.concatenate((X1_train, X2_train), axis=0)"
   ]
  },
  {
   "cell_type": "code",
   "execution_count": 14,
   "metadata": {},
   "outputs": [],
   "source": [
    "wv_model = Word2Vec(size=EMD_DIM, min_count=1)\n",
    "wv_model.build_vocab(sentences)\n",
    "wv_model.train(sentences, total_examples=wv_model.corpus_count, epochs=8)\n",
    "wv_model.save('./saved/wv_model')"
   ]
  },
  {
   "cell_type": "code",
   "execution_count": 15,
   "metadata": {},
   "outputs": [],
   "source": [
    "word_vectors = wv_model.wv\n",
    "del wv_model\n",
    "i2w = [u'<UNK>'] + word_vectors.index2entity\n",
    "vocab = dict(zip(i2w, range(len(i2w))))"
   ]
  },
  {
   "cell_type": "code",
   "execution_count": 16,
   "metadata": {},
   "outputs": [],
   "source": [
    "to_paded_seqs = lambda x:pad_sequences(to_int_seqs(x, vocab),\\\n",
    "                    maxlen=MAX_LEN, padding='post', truncating='post')\n",
    "\n",
    "X1_train, X2_train = to_paded_seqs(X1_train), to_paded_seqs(X2_train)\n",
    "X1_test, X2_test = to_paded_seqs(X1_test), to_paded_seqs(X2_test)"
   ]
  },
  {
   "cell_type": "code",
   "execution_count": 17,
   "metadata": {},
   "outputs": [],
   "source": [
    "emb_matrix = gen_emb_matrix(word_vectors, vocab)"
   ]
  },
  {
   "cell_type": "code",
   "execution_count": 18,
   "metadata": {},
   "outputs": [
    {
     "name": "stdout",
     "output_type": "stream",
     "text": [
      "__________________________________________________________________________________________________\n",
      "Layer (type)                    Output Shape         Param #     Connected to                     \n",
      "==================================================================================================\n",
      "input_1 (InputLayer)            (None, 60)           0                                            \n",
      "__________________________________________________________________________________________________\n",
      "input_2 (InputLayer)            (None, 60)           0                                            \n",
      "__________________________________________________________________________________________________\n",
      "embedding_1 (Embedding)         (None, 60, 200)      2518800     input_1[0][0]                    \n",
      "                                                                 input_2[0][0]                    \n",
      "__________________________________________________________________________________________________\n",
      "bidirectional_1 (Bidirectional) (None, 60, 256)      336896      embedding_1[0][0]                \n",
      "                                                                 embedding_1[1][0]                \n",
      "__________________________________________________________________________________________________\n",
      "bidirectional_2 (Bidirectional) (None, 60, 256)      394240      bidirectional_1[0][0]            \n",
      "                                                                 bidirectional_1[1][0]            \n",
      "__________________________________________________________________________________________________\n",
      "subtract_1 (Subtract)           (None, 60, 256)      0           bidirectional_2[0][0]            \n",
      "                                                                 bidirectional_2[1][0]            \n",
      "__________________________________________________________________________________________________\n",
      "multiply_1 (Multiply)           (None, 60, 256)      0           bidirectional_2[0][0]            \n",
      "                                                                 bidirectional_2[1][0]            \n",
      "__________________________________________________________________________________________________\n",
      "lambda_1 (Lambda)               (None, 60, 256)      0           subtract_1[0][0]                 \n",
      "__________________________________________________________________________________________________\n",
      "concatenate_1 (Concatenate)     (None, 60, 512)      0           multiply_1[0][0]                 \n",
      "                                                                 lambda_1[0][0]                   \n",
      "__________________________________________________________________________________________________\n",
      "flatten_1 (Flatten)             (None, 30720)        0           concatenate_1[0][0]              \n",
      "__________________________________________________________________________________________________\n",
      "dropout_1 (Dropout)             (None, 30720)        0           flatten_1[0][0]                  \n",
      "__________________________________________________________________________________________________\n",
      "dense_1 (Dense)                 (None, 100)          3072100     dropout_1[0][0]                  \n",
      "__________________________________________________________________________________________________\n",
      "dense_2 (Dense)                 (None, 1)            101         dense_1[0][0]                    \n",
      "==================================================================================================\n",
      "Total params: 6,322,137\n",
      "Trainable params: 3,803,337\n",
      "Non-trainable params: 2,518,800\n",
      "__________________________________________________________________________________________________\n"
     ]
    }
   ],
   "source": [
    "model = my_model(len(vocab), emb_matrix, lr=0.0005, loss=weighted_binary_crossentropy)\n",
    "model.summary()"
   ]
  },
  {
   "cell_type": "code",
   "execution_count": 19,
   "metadata": {},
   "outputs": [
    {
     "name": "stdout",
     "output_type": "stream",
     "text": [
      "Train on 92230 samples, validate on 10247 samples\n",
      "Epoch 1/8\n",
      "92230/92230 [==============================] - 450s 5ms/step - loss: 0.4170 - acc: 0.7954 - fscore: 0.3812 - val_loss: 0.3951 - val_acc: 0.8184 - val_fscore: 0.4472\n",
      "Epoch 2/8\n",
      "92230/92230 [==============================] - 436s 5ms/step - loss: 0.3775 - acc: 0.8046 - fscore: 0.4869 - val_loss: 0.3833 - val_acc: 0.8320 - val_fscore: 0.4846\n",
      "Epoch 3/8\n",
      "92230/92230 [==============================] - 437s 5ms/step - loss: 0.3547 - acc: 0.8146 - fscore: 0.5285 - val_loss: 0.3714 - val_acc: 0.8005 - val_fscore: 0.5290\n",
      "Epoch 4/8\n",
      "92230/92230 [==============================] - 436s 5ms/step - loss: 0.3348 - acc: 0.8254 - fscore: 0.5626 - val_loss: 0.3692 - val_acc: 0.7996 - val_fscore: 0.5284\n",
      "Epoch 5/8\n",
      "92230/92230 [==============================] - 437s 5ms/step - loss: 0.3150 - acc: 0.8340 - fscore: 0.5899 - val_loss: 0.3764 - val_acc: 0.7655 - val_fscore: 0.5274\n",
      "Epoch 6/8\n",
      "92230/92230 [==============================] - 436s 5ms/step - loss: 0.2935 - acc: 0.8446 - fscore: 0.6177 - val_loss: 0.3930 - val_acc: 0.7470 - val_fscore: 0.5143\n",
      "Epoch 7/8\n",
      "92230/92230 [==============================] - 437s 5ms/step - loss: 0.2727 - acc: 0.8575 - fscore: 0.6484 - val_loss: 0.4162 - val_acc: 0.8338 - val_fscore: 0.5007\n",
      "Epoch 8/8\n",
      "92230/92230 [==============================] - 436s 5ms/step - loss: 0.2522 - acc: 0.8687 - fscore: 0.6743 - val_loss: 0.4073 - val_acc: 0.8095 - val_fscore: 0.5246\n"
     ]
    }
   ],
   "source": [
    "hist = model.fit([X1_train, X2_train], y_train, batch_size=128, epochs=8, validation_data=([X1_test, X2_test], y_test))"
   ]
  },
  {
   "cell_type": "code",
   "execution_count": 20,
   "metadata": {},
   "outputs": [],
   "source": [
    "model.save('./saved/my_model.h5')"
   ]
  },
  {
   "cell_type": "code",
   "execution_count": 22,
   "metadata": {},
   "outputs": [
    {
     "data": {
      "image/png": "[encoded data removed]",
      "text/plain": [
       "<Figure size 1296x432 with 3 Axes>"
      ]
     },
     "metadata": {},
     "output_type": "display_data"
    }
   ],
   "source": [
    "from matplotlib import pyplot as plt\n",
    "\n",
    "his = hist.history\n",
    "epochs = list(range(1, 9))\n",
    "plt.figure(figsize=(18,6))\n",
    "plt.subplot(131)\n",
    "plt.title('loss')\n",
    "plt.plot(epochs, his['val_loss'], label='val_loss')\n",
    "plt.plot(epochs, his['loss'], label='loss')\n",
    "plt.xlabel('epoch')\n",
    "plt.ylabel('loss')\n",
    "plt.legend()\n",
    "\n",
    "plt.subplot(132)\n",
    "plt.title('accuracy')\n",
    "plt.plot(epochs, his['val_acc'], label='val_acc')\n",
    "plt.plot(epochs, his['acc'], label='acc')\n",
    "plt.xlabel('epoch')\n",
    "plt.ylabel('accuracy')\n",
    "plt.legend()\n",
    "\n",
    "plt.subplot(133)\n",
    "plt.title('fscore')\n",
    "plt.plot(epochs, his['val_fscore'], label='val_fscore')\n",
    "plt.plot(epochs, his['fscore'], label='fscore')\n",
    "plt.xlabel('epoch')\n",
    "plt.ylabel('fscore')\n",
    "plt.legend()\n",
    "\n",
    "plt.show()"
   ]
  },
  {
   "cell_type": "markdown",
   "metadata": {},
   "source": [
    "#### 以下代码只是辅助找出数据里的一些常用词以补充jieba词典"
   ]
  },
  {
   "cell_type": "code",
   "execution_count": 22,
   "metadata": {},
   "outputs": [],
   "source": [
    "def clean(sens):\n",
    "    new_sens = []\n",
    "    for s in sens:\n",
    "        new_sens.append(re.sub(u'[，。？！]', ' ', s.decode('utf-8')).strip())\n",
    "    return new_sens"
   ]
  },
  {
   "cell_type": "code",
   "execution_count": 45,
   "metadata": {},
   "outputs": [],
   "source": [
    "def n_counts(sens, n, min_count=5, inverse=False):\n",
    "    counts = {}\n",
    "    for s in sens:\n",
    "        if len(s) < n:\n",
    "            continue\n",
    "        if inverse:\n",
    "            s = s[::-1]\n",
    "        for i in range(len(s)-n+1):\n",
    "            k = s[i].strip() if n==1 else tuple(s[i+j] for j in range(n) if s[i+j].strip())\n",
    "            if len(k) != n:\n",
    "                continue\n",
    "            if k in counts:\n",
    "                counts[k] += 1\n",
    "            else:\n",
    "                counts[k] = 1\n",
    "    del_ks = [k for k,v in counts.items() if v<min_count]\n",
    "    for k in del_ks:\n",
    "        del counts[k]\n",
    "    return counts"
   ]
  },
  {
   "cell_type": "code",
   "execution_count": 53,
   "metadata": {},
   "outputs": [],
   "source": [
    "def extract_words(sens, min_freq=0.8, min_count=5):\n",
    "    \n",
    "    uni_counts = n_counts(sens, 1, min_count)\n",
    "    bi_counts = n_counts(sens, 2, min_count)\n",
    "    tri_counts = n_counts(sens, 3, min_count)\n",
    "    four_counts = n_counts(sens, 4, min_count)\n",
    "    \n",
    "    ibi_counts = n_counts(sens, 2, min_count, inverse=True)\n",
    "    itri_counts = n_counts(sens, 3, min_count, inverse=True)\n",
    "    ifour_counts = n_counts(sens, 4, min_count, inverse=True)\n",
    "    \n",
    "    bi_words = set()\n",
    "    for k,v in bi_counts.items():\n",
    "        freq = v*1.0 / uni_counts[k[0]] if k[0] in uni_counts else 0\n",
    "        if freq >= min_freq:\n",
    "            bi_words.add(u''.join(k))\n",
    "            \n",
    "    tri_words = set()\n",
    "    for k,v in tri_counts.items():\n",
    "        freq = v*1.0 / bi_counts[(k[0],k[1])] if (k[0],k[1]) in bi_counts else 0\n",
    "        if freq >= min_freq:\n",
    "            tri_words.add(u''.join(k))\n",
    "            \n",
    "    four_words = set()\n",
    "    for k,v in four_counts.items():\n",
    "        freq = v*1.0 / tri_counts[(k[0],k[1],k[2])] if (k[0],k[1],k[2]) in tri_counts else 0\n",
    "        if freq >= min_freq:\n",
    "            four_words.add(u''.join(k))\n",
    "            \n",
    "    ibi_words = set()\n",
    "    for k,v in ibi_counts.items():\n",
    "        freq = v*1.0 / uni_counts[k[0]] if k[0] in uni_counts else 0\n",
    "        if freq >= min_freq:\n",
    "            ibi_words.add(u''.join(k[::-1]))\n",
    "            \n",
    "    itri_words = set()\n",
    "    for k,v in itri_counts.items():\n",
    "        freq = v*1.0 / ibi_counts[(k[0],k[1])] if (k[0],k[1]) in ibi_counts else 0\n",
    "        if freq >= min_freq:\n",
    "            itri_words.add(u''.join(k[::-1]))\n",
    "            \n",
    "    ifour_words = set()\n",
    "    for k,v in ifour_counts.items():\n",
    "        freq = v*1.0 / itri_counts[(k[0],k[1],k[2])] if (k[0],k[1],k[2]) in itri_counts else 0\n",
    "        if freq >= min_freq:\n",
    "            ifour_words.add(u''.join(k[::-1]))\n",
    "    \n",
    "    bi_words = list(bi_words & ibi_words)\n",
    "    tri_words = list(tri_words & itri_words)\n",
    "    four_words = list(four_words & ifour_words)\n",
    "    \n",
    "    #bi_words = [w for w in bi_words if not any([w in tri for tri in tri_words])]\n",
    "    #tri_words = [w for w in tri_words if not any([w in four for four in four_words])]\n",
    "    \n",
    "    return bi_words + tri_words + four_words"
   ]
  },
  {
   "cell_type": "code",
   "execution_count": 57,
   "metadata": {},
   "outputs": [],
   "source": [
    "#import re\n",
    "newsens = clean(np.concatenate((sens1, sens2)))\n",
    "words = extract_words(newsens, 0.8, 50)"
   ]
  },
  {
   "cell_type": "code",
   "execution_count": 60,
   "metadata": {},
   "outputs": [],
   "source": [
    "with open('dict.txt', 'w') as f:\n",
    "    f.write(u'\\n'.join(words).encode('utf-8'))"
   ]
  },
  {
   "cell_type": "code",
   "execution_count": null,
   "metadata": {},
   "outputs": [],
   "source": []
  }
 ],
 "metadata": {
  "kernelspec": {
   "display_name": "Python 2",
   "language": "python",
   "name": "python2"
  },
  "language_info": {
   "codemirror_mode": {
    "name": "ipython",
    "version": 2
   },
   "file_extension": ".py",
   "mimetype": "text/x-python",
   "name": "python",
   "nbconvert_exporter": "python",
   "pygments_lexer": "ipython2",
   "version": "2.7.15"
  }
 },
 "nbformat": 4,
 "nbformat_minor": 2
}
