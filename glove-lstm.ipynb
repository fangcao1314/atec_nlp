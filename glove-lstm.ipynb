{
 "cells": [
  {
   "cell_type": "code",
   "execution_count": 1,
   "metadata": {},
   "outputs": [
    {
     "name": "stderr",
     "output_type": "stream",
     "text": [
      "Using TensorFlow backend.\n"
     ]
    }
   ],
   "source": [
    "import numpy as np\n",
    "import pandas as pd\n",
    "from keras.preprocessing.sequence import pad_sequences\n",
    "from keras.layers import *\n",
    "from keras.models import Model\n",
    "from keras.optimizers import RMSprop\n",
    "from keras import regularizers\n",
    "import keras.backend as K"
   ]
  },
  {
   "cell_type": "code",
   "execution_count": 2,
   "metadata": {},
   "outputs": [],
   "source": [
    "# define constant\n",
    "MAX_LEN = 80\n",
    "EMD_DIM = 300\n",
    "\n",
    "with open('punctuations.txt') as f:\n",
    "    PUNCTS = f.read().decode('utf-8').split()"
   ]
  },
  {
   "cell_type": "code",
   "execution_count": 3,
   "metadata": {},
   "outputs": [],
   "source": [
    "def tokenize(texts):\n",
    "    sens = []\n",
    "    for sen in texts:\n",
    "        words = list(sen.decode('utf-8'))\n",
    "        words = [w for w in words if w.strip() and w not in PUNCTS]\n",
    "        sens.append(words)\n",
    "    return sens"
   ]
  },
  {
   "cell_type": "code",
   "execution_count": 4,
   "metadata": {},
   "outputs": [],
   "source": [
    "def to_int_seqs(seqs, vocab):\n",
    "    rs = []\n",
    "    for s in seqs:\n",
    "        rs.append([vocab[w] if w in vocab else vocab[u'<unk>'] for w in s])\n",
    "    return rs"
   ]
  },
  {
   "cell_type": "code",
   "execution_count": 5,
   "metadata": {},
   "outputs": [],
   "source": [
    "def gen_emb_matrix(word_vecs, vocab):\n",
    "    emb_matrix = np.zeros((len(vocab), EMD_DIM))\n",
    "    for w,i in vocab.items():\n",
    "        if w in word_vecs:\n",
    "            emb_matrix[i] = word_vecs[w]\n",
    "    return emb_matrix"
   ]
  },
  {
   "cell_type": "code",
   "execution_count": 6,
   "metadata": {},
   "outputs": [],
   "source": [
    "def fscore(y_true, y_pred):\n",
    "    y_pred = K.round(y_pred)\n",
    "    tp = K.sum(K.cast(K.equal(y_true+y_pred, 2.), dtype='float32'))\n",
    "    pred_p = K.sum(y_pred) + K.epsilon()\n",
    "    actual_p = K.sum(y_true) + K.epsilon()\n",
    "    precision = tp / pred_p\n",
    "    recall = tp / actual_p\n",
    "    return (2 * precision * recall) / (precision + recall + K.epsilon())"
   ]
  },
  {
   "cell_type": "code",
   "execution_count": 7,
   "metadata": {},
   "outputs": [],
   "source": [
    "def weighted_binary_crossentropy(y_true, y_pred):\n",
    "    p = K.clip(y_pred, K.epsilon(), 1. - K.epsilon())\n",
    "    loss = -(1.4 * y_true * K.log(p) + 0.6 * (1. - y_true) * K.log(1. - p))\n",
    "    return K.mean(loss)"
   ]
  },
  {
   "cell_type": "code",
   "execution_count": 8,
   "metadata": {},
   "outputs": [],
   "source": [
    "def my_model(vocab_size, emb_matrix, lr=0.001, loss='binary_crossentropy'):\n",
    "    \n",
    "    input1 = Input(shape=(MAX_LEN,))\n",
    "    input2 = Input(shape=(MAX_LEN,))\n",
    "    \n",
    "    embedding = Embedding(vocab_size,\n",
    "                          EMD_DIM,                          \n",
    "                          weights=[emb_matrix],\n",
    "                          input_length=MAX_LEN,\n",
    "                          trainable=False)    \n",
    "    \n",
    "    # conv1d = Conv1D(128, 3, padding='same')\n",
    "    # pooling1d = MaxPooling1D(pool_size=2, padding='same')\n",
    "    \n",
    "    lstm1 = Bidirectional(LSTM(128, return_sequences=True))\n",
    "    lstm2 = Bidirectional(LSTM(128, return_sequences=True))\n",
    "        \n",
    "    x1 = embedding(input1)\n",
    "    x2 = embedding(input2)\n",
    "        \n",
    "    x1 = lstm1(x1)\n",
    "    x2 = lstm1(x2)\n",
    "    \n",
    "    x1 = lstm2(x1)\n",
    "    x2 = lstm2(x2)\n",
    "    \n",
    "    x3 = Multiply()([x1, x2])    \n",
    "    \n",
    "    x4 = Subtract()([x1, x2])\n",
    "    x4 = Lambda(lambda x: K.abs(x))(x4)\n",
    "    \n",
    "    x = Concatenate(axis=-1)([x3, x4])\n",
    "    x = Flatten()(x)\n",
    "    x = Dropout(0.5)(x)\n",
    "    x = Dense(100, kernel_regularizer=regularizers.l2(1e-5))(x)\n",
    "    \n",
    "    pred = Dense(1, activation='sigmoid', kernel_regularizer=regularizers.l2(1e-5))(x)\n",
    "    \n",
    "    model = Model(inputs=[input1, input2], outputs=pred)\n",
    "    \n",
    "    model.compile(optimizer=RMSprop(lr=lr, decay=1e-6),\n",
    "                  loss=loss,\n",
    "                  metrics=['accuracy', fscore])\n",
    "    \n",
    "    return model"
   ]
  },
  {
   "cell_type": "code",
   "execution_count": 9,
   "metadata": {},
   "outputs": [],
   "source": [
    "# read data\n",
    "data_train = pd.read_csv('train.csv', sep='\\t', index_col=0, names=['sen1', 'sen2', 'label'])\n",
    "data_val = pd.read_csv('validation.csv', sep='\\t', index_col=0, names=['sen1', 'sen2', 'label'])\n",
    "\n",
    "X1_train, X2_train, y_train = data_train['sen1'].as_matrix(), data_train['sen2'].as_matrix(), data_train['label'].as_matrix()\n",
    "X1_val, X2_val, y_val = data_val['sen1'].as_matrix(), data_val['sen2'].as_matrix(), data_val['label'].as_matrix()"
   ]
  },
  {
   "cell_type": "code",
   "execution_count": 10,
   "metadata": {},
   "outputs": [],
   "source": [
    "vocab = {u'<pad>':0, u'<unk>':1}\n",
    "with open('./vocab.txt') as f:\n",
    "    for line in f:\n",
    "        vocab[line.decode('utf-8').split()[0]] = len(vocab)"
   ]
  },
  {
   "cell_type": "code",
   "execution_count": 11,
   "metadata": {},
   "outputs": [],
   "source": [
    "word_vectors = {}\n",
    "with open('./vectors.txt') as f:\n",
    "    for line in f:\n",
    "        vals = line.decode('utf-8').split()\n",
    "        word_vectors[vals[0]] = vals[1:]"
   ]
  },
  {
   "cell_type": "code",
   "execution_count": 12,
   "metadata": {},
   "outputs": [],
   "source": [
    "to_paded_seqs = lambda x:pad_sequences(to_int_seqs(tokenize(x), vocab),\\\n",
    "                    maxlen=MAX_LEN, padding='post', truncating='post')\n",
    "\n",
    "X1_train, X2_train = to_paded_seqs(X1_train), to_paded_seqs(X2_train)\n",
    "X1_val, X2_val = to_paded_seqs(X1_val), to_paded_seqs(X2_val)"
   ]
  },
  {
   "cell_type": "code",
   "execution_count": 13,
   "metadata": {},
   "outputs": [],
   "source": [
    "emb_matrix = gen_emb_matrix(word_vectors, vocab)"
   ]
  },
  {
   "cell_type": "code",
   "execution_count": 18,
   "metadata": {},
   "outputs": [
    {
     "name": "stdout",
     "output_type": "stream",
     "text": [
      "__________________________________________________________________________________________________\n",
      "Layer (type)                    Output Shape         Param #     Connected to                     \n",
      "==================================================================================================\n",
      "input_5 (InputLayer)            (None, 80)           0                                            \n",
      "__________________________________________________________________________________________________\n",
      "input_6 (InputLayer)            (None, 80)           0                                            \n",
      "__________________________________________________________________________________________________\n",
      "embedding_3 (Embedding)         (None, 80, 300)      480900      input_5[0][0]                    \n",
      "                                                                 input_6[0][0]                    \n",
      "__________________________________________________________________________________________________\n",
      "bidirectional_5 (Bidirectional) (None, 80, 256)      439296      embedding_3[0][0]                \n",
      "                                                                 embedding_3[1][0]                \n",
      "__________________________________________________________________________________________________\n",
      "bidirectional_6 (Bidirectional) (None, 80, 256)      394240      bidirectional_5[0][0]            \n",
      "                                                                 bidirectional_5[1][0]            \n",
      "__________________________________________________________________________________________________\n",
      "subtract_3 (Subtract)           (None, 80, 256)      0           bidirectional_6[0][0]            \n",
      "                                                                 bidirectional_6[1][0]            \n",
      "__________________________________________________________________________________________________\n",
      "multiply_3 (Multiply)           (None, 80, 256)      0           bidirectional_6[0][0]            \n",
      "                                                                 bidirectional_6[1][0]            \n",
      "__________________________________________________________________________________________________\n",
      "lambda_3 (Lambda)               (None, 80, 256)      0           subtract_3[0][0]                 \n",
      "__________________________________________________________________________________________________\n",
      "concatenate_3 (Concatenate)     (None, 80, 512)      0           multiply_3[0][0]                 \n",
      "                                                                 lambda_3[0][0]                   \n",
      "__________________________________________________________________________________________________\n",
      "flatten_3 (Flatten)             (None, 40960)        0           concatenate_3[0][0]              \n",
      "__________________________________________________________________________________________________\n",
      "dropout_3 (Dropout)             (None, 40960)        0           flatten_3[0][0]                  \n",
      "__________________________________________________________________________________________________\n",
      "dense_5 (Dense)                 (None, 100)          4096100     dropout_3[0][0]                  \n",
      "__________________________________________________________________________________________________\n",
      "dense_6 (Dense)                 (None, 1)            101         dense_5[0][0]                    \n",
      "==================================================================================================\n",
      "Total params: 5,410,637\n",
      "Trainable params: 4,929,737\n",
      "Non-trainable params: 480,900\n",
      "__________________________________________________________________________________________________\n"
     ]
    }
   ],
   "source": [
    "model = my_model(len(vocab), emb_matrix, lr=0.0005, loss=weighted_binary_crossentropy)\n",
    "model.summary()"
   ]
  },
  {
   "cell_type": "code",
   "execution_count": 19,
   "metadata": {},
   "outputs": [
    {
     "name": "stdout",
     "output_type": "stream",
     "text": [
      "Train on 92230 samples, validate on 10247 samples\n",
      "Epoch 1/6\n",
      "92230/92230 [==============================] - 539s 6ms/step - loss: 0.4335 - acc: 0.7912 - fscore: 0.3238 - val_loss: 0.4142 - val_acc: 0.8165 - val_fscore: 0.3945\n",
      "Epoch 2/6\n",
      "92230/92230 [==============================] - 531s 6ms/step - loss: 0.3891 - acc: 0.8029 - fscore: 0.4687 - val_loss: 0.3984 - val_acc: 0.7640 - val_fscore: 0.5003\n",
      "Epoch 3/6\n",
      "92230/92230 [==============================] - 532s 6ms/step - loss: 0.3645 - acc: 0.8137 - fscore: 0.5178 - val_loss: 0.3739 - val_acc: 0.8210 - val_fscore: 0.5227\n",
      "Epoch 4/6\n",
      "92230/92230 [==============================] - 532s 6ms/step - loss: 0.3450 - acc: 0.8223 - fscore: 0.5487 - val_loss: 0.3673 - val_acc: 0.7946 - val_fscore: 0.5345\n",
      "Epoch 5/6\n",
      "92230/92230 [==============================] - 532s 6ms/step - loss: 0.3264 - acc: 0.8309 - fscore: 0.5771 - val_loss: 0.3627 - val_acc: 0.8031 - val_fscore: 0.5511\n",
      "Epoch 6/6\n",
      "92230/92230 [==============================] - 533s 6ms/step - loss: 0.3087 - acc: 0.8410 - fscore: 0.6043 - val_loss: 0.3676 - val_acc: 0.7879 - val_fscore: 0.5457\n"
     ]
    }
   ],
   "source": [
    "hist = model.fit([X1_train, X2_train], y_train, batch_size=128, epochs=6, validation_data=([X1_val, X2_val], y_val))"
   ]
  },
  {
   "cell_type": "code",
   "execution_count": 20,
   "metadata": {},
   "outputs": [],
   "source": [
    "model.save('./my_model2.h5')"
   ]
  },
  {
   "cell_type": "code",
   "execution_count": 22,
   "metadata": {},
   "outputs": [
    {
     "data": {
      "image/png": "[encoded data removed]",
      "text/plain": [
       "<Figure size 1296x432 with 3 Axes>"
      ]
     },
     "metadata": {},
     "output_type": "display_data"
    }
   ],
   "source": [
    "from matplotlib import pyplot as plt\n",
    "\n",
    "his = hist.history\n",
    "epochs = list(range(1, 7))\n",
    "plt.figure(figsize=(18,6))\n",
    "plt.subplot(131)\n",
    "plt.title('loss')\n",
    "plt.plot(epochs, his['val_loss'], label='val_loss')\n",
    "plt.plot(epochs, his['loss'], label='loss')\n",
    "plt.xlabel('epoch')\n",
    "plt.ylabel('loss')\n",
    "plt.legend()\n",
    "\n",
    "plt.subplot(132)\n",
    "plt.title('accuracy')\n",
    "plt.plot(epochs, his['val_acc'], label='val_acc')\n",
    "plt.plot(epochs, his['acc'], label='acc')\n",
    "plt.xlabel('epoch')\n",
    "plt.ylabel('accuracy')\n",
    "plt.legend()\n",
    "\n",
    "plt.subplot(133)\n",
    "plt.title('fscore')\n",
    "plt.plot(epochs, his['val_fscore'], label='val_fscore')\n",
    "plt.plot(epochs, his['fscore'], label='fscore')\n",
    "plt.xlabel('epoch')\n",
    "plt.ylabel('fscore')\n",
    "plt.legend()\n",
    "\n",
    "plt.show()"
   ]
  },
  {
   "cell_type": "code",
   "execution_count": null,
   "metadata": {},
   "outputs": [],
   "source": []
  }
 ],
 "metadata": {
  "kernelspec": {
   "display_name": "Python 2",
   "language": "python",
   "name": "python2"
  },
  "language_info": {
   "codemirror_mode": {
    "name": "ipython",
    "version": 2
   },
   "file_extension": ".py",
   "mimetype": "text/x-python",
   "name": "python",
   "nbconvert_exporter": "python",
   "pygments_lexer": "ipython2",
   "version": "2.7.15"
  }
 },
 "nbformat": 4,
 "nbformat_minor": 2
}
