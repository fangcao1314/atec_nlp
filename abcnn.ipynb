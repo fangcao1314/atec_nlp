{
 "cells": [
  {
   "cell_type": "code",
   "execution_count": 1,
   "metadata": {},
   "outputs": [
    {
     "name": "stderr",
     "output_type": "stream",
     "text": [
      "/home/wave/software/anaconda/envs/atec/lib/python2.7/site-packages/h5py/__init__.py:36: FutureWarning: Conversion of the second argument of issubdtype from `float` to `np.floating` is deprecated. In future, it will be treated as `np.float64 == np.dtype(float).type`.\n",
      "  from ._conv import register_converters as _register_converters\n",
      "Building prefix dict from the default dictionary ...\n",
      "Loading model from cache /tmp/jieba.cache\n",
      "Loading model cost 0.287 seconds.\n",
      "Prefix dict has been built succesfully.\n"
     ]
    }
   ],
   "source": [
    "import numpy as np\n",
    "#import tensorflow as tf\n",
    "from abcnn import ABCNN\n",
    "from preprocess import DataSet"
   ]
  },
  {
   "cell_type": "code",
   "execution_count": 2,
   "metadata": {},
   "outputs": [],
   "source": [
    "# define constant\n",
    "MAX_LEN = 80"
   ]
  },
  {
   "cell_type": "code",
   "execution_count": 3,
   "metadata": {},
   "outputs": [],
   "source": [
    "dataset = DataSet(maxlen=MAX_LEN)\n",
    "(x_train, y_train), val_data = dataset.get_data(0)\n",
    "emb_matrix = dataset.get_emb_matrix()\n",
    "vocab = dataset.vocab"
   ]
  },
  {
   "cell_type": "code",
   "execution_count": 6,
   "metadata": {
    "scrolled": false
   },
   "outputs": [
    {
     "name": "stdout",
     "output_type": "stream",
     "text": [
      "epoch 1:\n",
      "\ttrain: loss: 0.7998 , acc: 0.7350 , f1_score: 0.1368\n",
      "\tval: loss: 0.7924 , acc: 0.8163 , f1_score: 0.0000\n",
      "epoch 2:\n",
      "\ttrain: loss: 0.7772 , acc: 0.8280 , f1_score: 0.0000\n",
      "\tval: loss: 0.7796 , acc: 0.8163 , f1_score: 0.0000\n"
     ]
    }
   ],
   "source": [
    "model = ABCNN(MAX_LEN, 4, emb_matrix.shape[1], len(vocab), em_mat=emb_matrix, filters=64, model_type=0, layers=1, lr=0.001)\n",
    "l = 0\n",
    "r = 1000\n",
    "model.fit([x_train[0][l:r], x_train[1][l:r]], y_train[l:r], batch_size=128, epochs=2, validation_data=val_data)"
   ]
  },
  {
   "cell_type": "code",
   "execution_count": 18,
   "metadata": {},
   "outputs": [
    {
     "name": "stdout",
     "output_type": "stream",
     "text": [
      "INFO:tensorflow:Restoring parameters from ./saved/model\n"
     ]
    }
   ],
   "source": [
    "import tensorflow as tf\n",
    "with tf.Session(graph=model.g) as sess:\n",
    "    saver = tf.train.Saver()\n",
    "    saver.restore(sess, './saved/model')\n",
    "    #w = sess.run(model.g.get_tensor_by_name('conv_1/conv2d/kernel:0'))\n",
    "    #w1 = sess.run(model.g.get_tensor_by_name('dense/kernel:0'))\n",
    "    #print(w)\n",
    "    #print(w1)"
   ]
  },
  {
   "cell_type": "code",
   "execution_count": null,
   "metadata": {},
   "outputs": [],
   "source": []
  }
 ],
 "metadata": {
  "kernelspec": {
   "display_name": "Python 2",
   "language": "python",
   "name": "python2"
  },
  "language_info": {
   "codemirror_mode": {
    "name": "ipython",
    "version": 2
   },
   "file_extension": ".py",
   "mimetype": "text/x-python",
   "name": "python",
   "nbconvert_exporter": "python",
   "pygments_lexer": "ipython2",
   "version": "2.7.15"
  }
 },
 "nbformat": 4,
 "nbformat_minor": 2
}
