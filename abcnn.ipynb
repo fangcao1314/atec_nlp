{
 "cells": [
  {
   "cell_type": "code",
   "execution_count": 1,
   "metadata": {},
   "outputs": [
    {
     "name": "stderr",
     "output_type": "stream",
     "text": [
      "Building prefix dict from the default dictionary ...\n",
      "Dumping model to file cache /tmp/jieba.cache\n",
      "Loading model cost 1.329 seconds.\n",
      "Prefix dict has been built succesfully.\n"
     ]
    }
   ],
   "source": [
    "import numpy as np\n",
    "#import tensorflow as tf\n",
    "from abcnn import ABCNN\n",
    "from preprocess import DataSet"
   ]
  },
  {
   "cell_type": "code",
   "execution_count": 16,
   "metadata": {},
   "outputs": [],
   "source": [
    "# define constant\n",
    "MAX_LEN = 80"
   ]
  },
  {
   "cell_type": "code",
   "execution_count": 17,
   "metadata": {},
   "outputs": [],
   "source": [
    "dataset = DataSet(maxlen=MAX_LEN, wordlevel=False, wv_model='Word2Vec')\n",
    "(x_train, y_train), val_data = dataset.get_data(0)\n",
    "emb_matrix = dataset.get_emb_matrix()\n",
    "vocab = dataset.vocab"
   ]
  },
  {
   "cell_type": "code",
   "execution_count": 20,
   "metadata": {
    "scrolled": false
   },
   "outputs": [
    {
     "name": "stdout",
     "output_type": "stream",
     "text": [
      "epoch 1:\n",
      "\ttrain: loss: 0.7159 , acc: 0.8168 , f1_score: 0.0145\n",
      "\tval: loss: 0.6707 , acc: 0.8209 , f1_score: 0.0203\n",
      "epoch 2:\n",
      "\ttrain: loss: 0.6693 , acc: 0.8141 , f1_score: 0.1943\n",
      "\tval: loss: 0.6395 , acc: 0.8207 , f1_score: 0.2330\n",
      "epoch 3:\n",
      "\ttrain: loss: 0.6349 , acc: 0.8154 , f1_score: 0.3488\n",
      "\tval: loss: 0.6104 , acc: 0.8229 , f1_score: 0.3450\n",
      "epoch 4:\n",
      "\ttrain: loss: 0.6073 , acc: 0.8183 , f1_score: 0.4218\n",
      "\tval: loss: 0.5917 , acc: 0.8233 , f1_score: 0.3977\n",
      "epoch 5:\n",
      "\ttrain: loss: 0.5860 , acc: 0.8217 , f1_score: 0.4663\n",
      "\tval: loss: 0.5816 , acc: 0.8261 , f1_score: 0.4296\n",
      "epoch 6:\n",
      "\ttrain: loss: 0.5690 , acc: 0.8262 , f1_score: 0.4986\n",
      "\tval: loss: 0.5745 , acc: 0.8258 , f1_score: 0.4424\n",
      "epoch 7:\n",
      "\ttrain: loss: 0.5550 , acc: 0.8289 , f1_score: 0.5182\n",
      "\tval: loss: 0.5691 , acc: 0.8271 , f1_score: 0.4630\n",
      "epoch 8:\n",
      "\ttrain: loss: 0.5425 , acc: 0.8321 , f1_score: 0.5348\n",
      "\tval: loss: 0.5655 , acc: 0.8279 , f1_score: 0.4733\n",
      "epoch 9:\n",
      "\ttrain: loss: 0.5310 , acc: 0.8350 , f1_score: 0.5481\n",
      "\tval: loss: 0.5622 , acc: 0.8267 , f1_score: 0.4795\n",
      "epoch 10:\n",
      "\ttrain: loss: 0.5204 , acc: 0.8379 , f1_score: 0.5602\n",
      "\tval: loss: 0.5606 , acc: 0.8262 , f1_score: 0.4866\n",
      "epoch 11:\n",
      "\ttrain: loss: 0.5104 , acc: 0.8416 , f1_score: 0.5732\n",
      "\tval: loss: 0.5603 , acc: 0.8249 , f1_score: 0.4889\n",
      "epoch 12:\n",
      "\ttrain: loss: 0.5007 , acc: 0.8443 , f1_score: 0.5832\n",
      "\tval: loss: 0.5598 , acc: 0.8257 , f1_score: 0.4997\n",
      "epoch 13:\n",
      "\ttrain: loss: 0.4915 , acc: 0.8476 , f1_score: 0.5946\n",
      "\tval: loss: 0.5608 , acc: 0.8284 , f1_score: 0.5059\n",
      "epoch 14:\n",
      "\ttrain: loss: 0.4823 , acc: 0.8504 , f1_score: 0.6043\n",
      "\tval: loss: 0.5623 , acc: 0.8278 , f1_score: 0.5096\n",
      "epoch 15:\n",
      "\ttrain: loss: 0.4737 , acc: 0.8537 , f1_score: 0.6151\n",
      "\tval: loss: 0.5635 , acc: 0.8271 , f1_score: 0.5094\n",
      "epoch 16:\n",
      "\ttrain: loss: 0.4654 , acc: 0.8559 , f1_score: 0.6225\n",
      "\tval: loss: 0.5663 , acc: 0.8258 , f1_score: 0.5079\n",
      "epoch 17:\n",
      "\ttrain: loss: 0.4571 , acc: 0.8588 , f1_score: 0.6308\n",
      "\tval: loss: 0.5700 , acc: 0.8257 , f1_score: 0.5120\n",
      "epoch 18:\n",
      "\ttrain: loss: 0.4493 , acc: 0.8612 , f1_score: 0.6384\n",
      "\tval: loss: 0.5731 , acc: 0.8240 , f1_score: 0.5115\n",
      "epoch 19:\n",
      "\ttrain: loss: 0.4408 , acc: 0.8643 , f1_score: 0.6475\n",
      "\tval: loss: 0.5773 , acc: 0.8248 , f1_score: 0.5097\n",
      "epoch 20:\n",
      "\ttrain: loss: 0.4329 , acc: 0.8672 , f1_score: 0.6557\n",
      "\tval: loss: 0.5830 , acc: 0.8254 , f1_score: 0.5095\n"
     ]
    }
   ],
   "source": [
    "model = ABCNN(MAX_LEN, 4, emb_matrix.shape[1], len(vocab), em_mat=emb_matrix, filters=64, model_type=0, layers=3, lr=0.001)\n",
    "model.fit(x_train, y_train, batch_size=256, epochs=20, validation_data=val_data)"
   ]
  },
  {
   "cell_type": "code",
   "execution_count": 18,
   "metadata": {},
   "outputs": [
    {
     "name": "stdout",
     "output_type": "stream",
     "text": [
      "INFO:tensorflow:Restoring parameters from ./saved/model\n"
     ]
    }
   ],
   "source": [
    "import tensorflow as tf\n",
    "with tf.Session(graph=model.g) as sess:\n",
    "    saver = tf.train.Saver()\n",
    "    saver.restore(sess, './saved/model')\n",
    "    #w = sess.run(model.g.get_tensor_by_name('conv_1/conv2d/kernel:0'))\n",
    "    #w1 = sess.run(model.g.get_tensor_by_name('dense/kernel:0'))\n",
    "    #print(w)\n",
    "    #print(w1)"
   ]
  },
  {
   "cell_type": "code",
   "execution_count": null,
   "metadata": {},
   "outputs": [],
   "source": []
  }
 ],
 "metadata": {
  "kernelspec": {
   "display_name": "Python 2",
   "language": "python",
   "name": "python2"
  },
  "language_info": {
   "codemirror_mode": {
    "name": "ipython",
    "version": 2
   },
   "file_extension": ".py",
   "mimetype": "text/x-python",
   "name": "python",
   "nbconvert_exporter": "python",
   "pygments_lexer": "ipython2",
   "version": "2.7.15"
  }
 },
 "nbformat": 4,
 "nbformat_minor": 2
}
